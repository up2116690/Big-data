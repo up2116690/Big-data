{
 "cells": [
  {
   "cell_type": "code",
   "execution_count": null,
   "metadata": {},
   "outputs": [
    {
     "name": "stdout",
     "output_type": "stream",
     "text": [
      "This is a prime number\n"
     ]
    }
   ],
   "source": [
    "# Exercise 1 \n",
    "def is_prime(n):\n",
    "    if n < 2:\n",
    "        return False\n",
    "    for i in range(2, int(n ** 0.5) + 1):\n",
    "        if n % i == 0:\n",
    "            return False\n",
    "    return True\n",
    "\n",
    "# Ask user to enter a number\n",
    "num = int(input(\"Enter a number: \"))\n",
    "\n",
    "# Check if the number is prime and print result\n",
    "if is_prime(num):\n",
    "    print(\"This is a prime number\")\n",
    "else:\n",
    "    print(\"This is not a prime number\")"
   ]
  },
  {
   "cell_type": "code",
   "execution_count": 2,
   "metadata": {},
   "outputs": [
    {
     "name": "stdout",
     "output_type": "stream",
     "text": [
      "Fibonacci sequence: [0, 1, 1, 2, 3, 5]\n"
     ]
    }
   ],
   "source": [
    "# Exercise 2\n",
    "def fibonacci(n):\n",
    "    sequence = [0, 1]\n",
    "    for _ in range(n - 2):\n",
    "        sequence.append(sequence[-1] + sequence[-2])\n",
    "    return sequence[:n]\n",
    "\n",
    "# Ask user to enter the number of Fibonacci numbers to display\n",
    "num = int(input(\"Enter how many numbers in Fibonacci sequence to display: \"))\n",
    "\n",
    "# Generate and print Fibonacci sequence\n",
    "print(\"Fibonacci sequence:\", fibonacci(num))\n"
   ]
  },
  {
   "cell_type": "code",
   "execution_count": 10,
   "metadata": {},
   "outputs": [
    {
     "name": "stdout",
     "output_type": "stream",
     "text": [
      "* * * * * \n",
      "* * * * \n",
      "* * * \n",
      "* * \n",
      "* \n"
     ]
    }
   ],
   "source": [
    "# Exercise 3\n",
    "def print_triangle(n):\n",
    "    for i in range(n, 0, -1):\n",
    "        print('* ' * i)\n",
    "        \n",
    "# Print the decreasing triangle pattern\n",
    "print_triangle(5)"
   ]
  },
  {
   "cell_type": "code",
   "execution_count": 11,
   "metadata": {},
   "outputs": [
    {
     "name": "stdout",
     "output_type": "stream",
     "text": [
      "* * * * * \n",
      "* * * * \n",
      "* * * \n",
      "* * \n",
      "* \n",
      "Reversed string: #5\n"
     ]
    }
   ],
   "source": [
    "# Exercise 4\n",
    "def print_triangle(n):\n",
    "    for i in range(n, 0, -1):\n",
    "        print('* ' * i)\n",
    "\n",
    "# Ask user to enter the number of rows for the triangle\n",
    "num = int(input(\"Enter the number of rows for the triangle: \"))\n",
    "\n",
    "# Print the decreasing triangle pattern\n",
    "print_triangle(num)\n",
    "\n",
    "def reverse_string():\n",
    "    user_input = input(\"Enter a string: \")\n",
    "    print(\"Reversed string:\", user_input[::-1])\n",
    "\n",
    "# Call the function to reverse a string\n",
    "reverse_string()"
   ]
  },
  {
   "cell_type": "code",
   "execution_count": 13,
   "metadata": {},
   "outputs": [
    {
     "name": "stdout",
     "output_type": "stream",
     "text": [
      "Min value is: 1\n",
      "Max value is: 888\n"
     ]
    }
   ],
   "source": [
    "# Exercise 5\n",
    "def min_max(iterable):\n",
    "    return min(iterable), max(iterable)\n",
    "\n",
    "# Ask user to enter numbers as a list\n",
    "numbers = list(map(int, input(\"Enter numbers separated by spaces: \").split()))\n",
    "\n",
    "# Get min and max values\n",
    "min_val, max_val = min_max(numbers)\n",
    "\n",
    "# Print results\n",
    "print(\"Min value is:\", min_val)\n",
    "print(\"Max value is:\", max_val)\n"
   ]
  },
  {
   "cell_type": "code",
   "execution_count": 14,
   "metadata": {},
   "outputs": [
    {
     "name": "stdout",
     "output_type": "stream",
     "text": [
      "Too high! Try again.\n",
      "Too high! Try again.\n",
      "Too high! Try again.\n",
      "Congratulations! You guessed the correct number.\n"
     ]
    }
   ],
   "source": [
    "# Exercise 6\n",
    "import random\n",
    "\n",
    "def guess_the_number():\n",
    "    secret_number = random.randint(1, 10)\n",
    "    while True:\n",
    "        try:\n",
    "            guess = int(input(\"Guess the number (between 1 and 10): \"))\n",
    "            if guess < 1 or guess > 10:\n",
    "                print(\"Please enter a number between 1 and 10.\")\n",
    "                continue\n",
    "            if guess < secret_number:\n",
    "                print(\"Too low! Try again.\")\n",
    "            elif guess > secret_number:\n",
    "                print(\"Too high! Try again.\")\n",
    "            else:\n",
    "                print(\"Congratulations! You guessed the correct number.\")\n",
    "                break\n",
    "        except ValueError:\n",
    "            print(\"Invalid input. Please enter a number between 1 and 10.\")\n",
    "\n",
    "# Start the game\n",
    "guess_the_number()\n"
   ]
  },
  {
   "cell_type": "code",
   "execution_count": null,
   "metadata": {},
   "outputs": [
    {
     "name": "stdout",
     "output_type": "stream",
     "text": [
      "Incorrect password. Try again.\n",
      "Access Granted!\n"
     ]
    }
   ],
   "source": [
    "# Exercise 7\n",
    "def password_checker():\n",
    "    \"\"\"\n",
    "    Function that requires correct password input to exit loop.\n",
    "    \"\"\"\n",
    "    correct_password = \"ClashofClansiscool\"  # Predefined correct password\n",
    "    while True:  # Infinite loop until correct password is entered\n",
    "        user_input = input(\"Enter password: \")  # Get user input\n",
    "        if user_input == correct_password:\n",
    "            print(\"Access Granted!\")  # Success message\n",
    "            break  # Exit loop\n",
    "        else:\n",
    "            print(\"Incorrect password. Try again.\")  # Retry message\n",
    "\n",
    "password_checker()  # Call function\n"
   ]
  },
  {
   "cell_type": "code",
   "execution_count": null,
   "metadata": {},
   "outputs": [
    {
     "name": "stdout",
     "output_type": "stream",
     "text": [
      "The sum of the series is: 3377453.0781766456\n"
     ]
    }
   ],
   "source": [
    "# Exercise 8\n",
    "import math\n",
    "\n",
    "def series_sum(x, N):\n",
    "    total = 0\n",
    "    for i in range(1, N + 1):\n",
    "        numerator = x * (5 ** (2 * i))\n",
    "        denominator = i + math.factorial(i + 1)\n",
    "        total += numerator / denominator\n",
    "    return total\n",
    "\n",
    "# Get user input\n",
    "x = float(input(\"Enter the value of x: \"))\n",
    "N = int(input(\"Enter the value of N: \"))\n",
    "\n",
    "# Compute and print the result\n",
    "result = series_sum(x, N)\n",
    "print(f\"The sum of the series is: {result}\")\n"
   ]
  },
  {
   "cell_type": "code",
   "execution_count": null,
   "metadata": {},
   "outputs": [
    {
     "ename": "FileNotFoundError",
     "evalue": "[Errno 2] No such file or directory: '/workspaces/Big-data/up2116690/workspaces/Big-data/icon.jpg'",
     "output_type": "error",
     "traceback": [
      "\u001b[0;31m---------------------------------------------------------------------------\u001b[0m",
      "\u001b[0;31mFileNotFoundError\u001b[0m                         Traceback (most recent call last)",
      "Cell \u001b[0;32mIn[41], line 8\u001b[0m\n\u001b[1;32m      6\u001b[0m \u001b[38;5;66;03m# Load the image from your computer\u001b[39;00m\n\u001b[1;32m      7\u001b[0m image_path \u001b[38;5;241m=\u001b[39m \u001b[38;5;124m'\u001b[39m\u001b[38;5;124mup2116690/workspaces/Big-data/icon.jpg\u001b[39m\u001b[38;5;124m'\u001b[39m\n\u001b[0;32m----> 8\u001b[0m image \u001b[38;5;241m=\u001b[39m \u001b[43mImage\u001b[49m\u001b[38;5;241;43m.\u001b[39;49m\u001b[43mopen\u001b[49m\u001b[43m(\u001b[49m\u001b[43mimage_path\u001b[49m\u001b[43m)\u001b[49m\n\u001b[1;32m     10\u001b[0m \u001b[38;5;66;03m# Convert to NumPy array\u001b[39;00m\n\u001b[1;32m     11\u001b[0m image_array \u001b[38;5;241m=\u001b[39m np\u001b[38;5;241m.\u001b[39marray(image)\n",
      "File \u001b[0;32m~/.local/lib/python3.12/site-packages/PIL/Image.py:3469\u001b[0m, in \u001b[0;36mopen\u001b[0;34m(fp, mode, formats)\u001b[0m\n\u001b[1;32m   3466\u001b[0m     filename \u001b[38;5;241m=\u001b[39m os\u001b[38;5;241m.\u001b[39mpath\u001b[38;5;241m.\u001b[39mrealpath(os\u001b[38;5;241m.\u001b[39mfspath(fp))\n\u001b[1;32m   3468\u001b[0m \u001b[38;5;28;01mif\u001b[39;00m filename:\n\u001b[0;32m-> 3469\u001b[0m     fp \u001b[38;5;241m=\u001b[39m \u001b[43mbuiltins\u001b[49m\u001b[38;5;241;43m.\u001b[39;49m\u001b[43mopen\u001b[49m\u001b[43m(\u001b[49m\u001b[43mfilename\u001b[49m\u001b[43m,\u001b[49m\u001b[43m \u001b[49m\u001b[38;5;124;43m\"\u001b[39;49m\u001b[38;5;124;43mrb\u001b[39;49m\u001b[38;5;124;43m\"\u001b[39;49m\u001b[43m)\u001b[49m\n\u001b[1;32m   3470\u001b[0m     exclusive_fp \u001b[38;5;241m=\u001b[39m \u001b[38;5;28;01mTrue\u001b[39;00m\n\u001b[1;32m   3471\u001b[0m \u001b[38;5;28;01melse\u001b[39;00m:\n",
      "\u001b[0;31mFileNotFoundError\u001b[0m: [Errno 2] No such file or directory: '/workspaces/Big-data/up2116690/workspaces/Big-data/icon.jpg'"
     ]
    }
   ],
   "source": [
    "# Exercise 9\n",
    "import numpy as np\n",
    "import matplotlib.pyplot as plt\n",
    "from PIL import Image\n",
    "\n",
    "# Load the image from your computer\n",
    "image_path = ''\n",
    "image = Image.open(image_path)\n",
    "\n",
    "# Convert to NumPy array\n",
    "image_array = np.array(image)\n",
    "\n",
    "# Create mirrored versions\n",
    "horizontal_mirror = np.fliplr(image_array)  # Flip left to right\n",
    "vertical_mirror = np.flipud(image_array)    # Flip up to down\n",
    "\n",
    "# Display original and mirrored images\n",
    "fig, axes = plt.subplots(1, 3, figsize=(12, 4))\n",
    "\n",
    "axes[0].imshow(image_array)\n",
    "axes[0].set_title(\"Original\")\n",
    "axes[0].axis(\"off\")\n",
    "\n",
    "axes[1].imshow(horizontal_mirror)\n",
    "axes[1].set_title(\"Horizontal Mirror\")\n",
    "axes[1].axis(\"off\")\n",
    "\n",
    "axes[2].imshow(vertical_mirror)\n",
    "axes[2].set_title(\"Vertical Mirror\")\n",
    "axes[2].axis(\"off\")\n",
    "\n",
    "plt.show()\n"
   ]
  },
  {
   "cell_type": "code",
   "execution_count": 44,
   "metadata": {},
   "outputs": [
    {
     "name": "stdout",
     "output_type": "stream",
     "text": [
      "Min: 18, Max: 30, Avg: 23.13\n",
      "Temperatures in Fahrenheit: [71.6 75.2 66.2 69.8 73.4 77.  78.8 80.6 75.2 73.4 68.  71.6 69.8 66.2\n",
      " 64.4 71.6 73.4 75.2 78.8 82.4 86.  80.6 77.  78.8 75.2 71.6 69.8 68.\n",
      " 66.2 73.4]\n",
      "Days with temperature > 25C: [26 27 26 28 30 27 26]\n"
     ]
    }
   ],
   "source": [
    "# Exercise 10\n",
    "temp_data = np.array([22, 24, 19, 21, 23, 25, 26, 27, 24, 23, 20, 22, 21, 19, 18, 22, 23, 24, 26, 28, 30, 27, 25, 26, 24, 22, 21, 20, 19, 23])  # Temperature dataset\n",
    "\n",
    "# 1. Min, Max, Average\n",
    "temp_min, temp_max, temp_avg = temp_data.min(), temp_data.max(), temp_data.mean()\n",
    "print(f\"Min: {temp_min}, Max: {temp_max}, Avg: {temp_avg:.2f}\")  # Print stats\n",
    "\n",
    "# 2. Convert to Fahrenheit\n",
    "temp_fahrenheit = (temp_data * 9/5) + 32  # Convert to Fahrenheit\n",
    "print(\"Temperatures in Fahrenheit:\", temp_fahrenheit)  # Print values\n",
    "\n",
    "# 3. Days above 25C\n",
    "above_25 = temp_data[temp_data > 25]  # Filter values\n",
    "print(\"Days with temperature > 25C:\", above_25)  # Print results\n"
   ]
  }
 ],
 "metadata": {
  "kernelspec": {
   "display_name": "Python 3",
   "language": "python",
   "name": "python3"
  },
  "language_info": {
   "codemirror_mode": {
    "name": "ipython",
    "version": 3
   },
   "file_extension": ".py",
   "mimetype": "text/x-python",
   "name": "python",
   "nbconvert_exporter": "python",
   "pygments_lexer": "ipython3",
   "version": "3.12.1"
  }
 },
 "nbformat": 4,
 "nbformat_minor": 2
}
